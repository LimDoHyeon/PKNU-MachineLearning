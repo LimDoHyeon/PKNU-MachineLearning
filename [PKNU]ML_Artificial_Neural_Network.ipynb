{
  "nbformat": 4,
  "nbformat_minor": 0,
  "metadata": {
    "colab": {
      "provenance": [],
      "authorship_tag": "ABX9TyPL6ydShgmlkasNOlEepOjc",
      "include_colab_link": true
    },
    "kernelspec": {
      "name": "python3",
      "display_name": "Python 3"
    },
    "language_info": {
      "name": "python"
    }
  },
  "cells": [
    {
      "cell_type": "markdown",
      "metadata": {
        "id": "view-in-github",
        "colab_type": "text"
      },
      "source": [
        "<a href=\"https://colab.research.google.com/github/LimDoHyeon/PKNU-MachineLearning/blob/main/%5BPKNU%5DML_Artificial_Neural_Network.ipynb\" target=\"_parent\"><img src=\"https://colab.research.google.com/assets/colab-badge.svg\" alt=\"Open In Colab\"/></a>"
      ]
    },
    {
      "cell_type": "markdown",
      "source": [
        "# 7.2 학습할 수 있는 신경 모형 - 퍼셉트론\n",
        "> 입력단자 x_i들이 계산 모형(퍼셉트론)으로 연결될 때 연결강도(weight) w_i에 의해 조정(곱셈) 후 모형으로 전달된다.\n",
        "\n",
        "<퍼셉트론은 전달된 신호를 합하고 이 결과로부터 활성화 함수(activation)를 통해 최종 출력 y를 낸다.>\n",
        "\n",
        "- 퍼셉트론 학습\n",
        "  - 퍼셉트론은 모형의 출력과 정답을 비교해 오차를 줄이도록 **연결강도(모수)**를 바꿈, 이 과정이 학습\n",
        "  - Heaviside(계단) 함수는 원조 신경망 퍼셉트론이 채택한 활성화 함수 -> 미분불가, ∴최적화 불가\n",
        "  - Heaviside function 대신 sigmoid 함수 사용\n",
        "\n",
        "- 인공 신경망의 하이퍼파라미터(외적 조건 - 학습과정, 속도 조절)\n",
        "  - 연결강도 조정 정도 (비율, 속도)\n",
        "  - 최적화 방법\n",
        "  - 학습 반복 횟수(epoch)\n"
      ],
      "metadata": {
        "id": "PJh4soem9Xwv"
      }
    },
    {
      "cell_type": "markdown",
      "source": [
        "대부분 이론, 수학 계산 중심의 내용이니 강의자료 참고"
      ],
      "metadata": {
        "id": "RmbR7et3DhXk"
      }
    }
  ]
}