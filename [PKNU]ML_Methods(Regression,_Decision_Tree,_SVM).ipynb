{
  "nbformat": 4,
  "nbformat_minor": 0,
  "metadata": {
    "colab": {
      "provenance": [],
      "authorship_tag": "ABX9TyPz48FyzAdfCgg6++rb9mSg",
      "include_colab_link": true
    },
    "kernelspec": {
      "name": "python3",
      "display_name": "Python 3"
    },
    "language_info": {
      "name": "python"
    }
  },
  "cells": [
    {
      "cell_type": "markdown",
      "metadata": {
        "id": "view-in-github",
        "colab_type": "text"
      },
      "source": [
        "<a href=\"https://colab.research.google.com/github/LimDoHyeon/PKNU-MachineLearning/blob/main/%5BPKNU%5DML_Methods(Regression%2C_Decision_Tree%2C_SVM).ipynb\" target=\"_parent\"><img src=\"https://colab.research.google.com/assets/colab-badge.svg\" alt=\"Open In Colab\"/></a>"
      ]
    },
    {
      "cell_type": "markdown",
      "source": [
        "#6.1. 다항식 회귀\n",
        "- 선형 회귀는 그 해법이 선형 방정식으로 표현되는 것에 유래\n",
        "- 실제 데이터는 비선형 함수 관계식을 따를 수도 있다. 이때 가정한 입출력 관계식(모델)이 비선형 다항식이며, 따라서 **다항식 회귀(Polynomial Regression)**라고 부를 수 있다. (그러나 해법은 여전히 선형 회귀법이 쓰인다)\n",
        "\n",
        "---\n",
        "\n",
        "1. 다항식 회귀에서 데이터를 사전 가공으로 처리한다면 사이킷런의 preprocessing 서브 모듈인 **PolynomialFeatures** Class를 활용 (활용 결과를 입려긍로)\n",
        "2. 클래스 생성 시 차수 지정 후 입력을 fit_transform() 메소드에 넘기면 다항 회귀에 필요한 형태로 변환함. 이것을 **다항식 특징 변환**이라고 함.\n",
        "\n",
        "ex : \n",
        "X3 = PolynomialFeatures(degree = 3).fit_transform(X)\n",
        "lin_model.fit(X3, y)"
      ],
      "metadata": {
        "id": "DlvtwtilsXAT"
      }
    },
    {
      "cell_type": "code",
      "execution_count": null,
      "metadata": {
        "id": "zgKf50MjrwVw"
      },
      "outputs": [],
      "source": [
        "import pandas as pd\n",
        "import matplotlib.pyplot as plt\n",
        "from sklearn.model_selection import train_test_split\n",
        "from sklearn.linear_model import LinearRegression\n",
        "from sklearn.metrics import mean_squared_error\n",
        "\n",
        "data_loc = 'https://github.com/dknife/ML/raw/main/data/'\n",
        "life = pd.read_csv(data_loc + 'life_expectancy.csv')\n",
        "\n",
        "life.head()\n",
        "\n",
        "life = life[['Life expectancy', 'Alcohol', 'Percentage expenditure', 'Polio', 'BMI', 'GDP', 'Thinness 1-19 years']]\n",
        "\n",
        "life.dropna(inplace = True) #dropna = ?\n",
        "X = life[['Life expectancy', 'Alcohol', 'Percentage expenditure', 'Polio', 'BMI', 'GDP', 'Thinness 1-19 years']] #Nx6 설계행렬\n",
        "y = life['Life expectancy']"
      ]
    },
    {
      "cell_type": "markdown",
      "source": [
        "- Preprocessing 서브 모듈의 **PolynomialFeatures** 클래스를 활용해 입력 데이터를 다변량 데이터로 변환"
      ],
      "metadata": {
        "id": "Oo3aleJMv9kJ"
      }
    },
    {
      "cell_type": "code",
      "source": [
        "from sklearn.preprocessing import PolynomialFeatures\n",
        "poly_feature = PolynomialFeatures(degree = 3)\n",
        "X = poly_feature.fit_transform(X) #fit_transform 주목, X = '변환된' 다변량 데이터들의 설계 행렬"
      ],
      "metadata": {
        "id": "m2Bbki_FvkOR"
      },
      "execution_count": null,
      "outputs": []
    },
    {
      "cell_type": "markdown",
      "source": [
        "- 이후는 보통의 (다중) 선형 회귀 계산 실시"
      ],
      "metadata": {
        "id": "rxFAo50MwZBN"
      }
    },
    {
      "cell_type": "code",
      "source": [
        "X_train, X_test, y_train, y_test = train_test_split(X, y, test_size = 0.2)\n",
        "lin_model = LinearRegression()\n",
        "lin_model.fit(X_train, y_train)\n",
        "\n",
        "y_hat_train = lin_model.predict(X_train)\n",
        "y_hat_test = lin_model.predict(X_test)\n",
        "\n",
        "plt.scatter(y_train, y_hat_train, color='r')\n",
        "plt.scatter(y_test, y_hat_test, color='b')\n",
        "plt.plot([40, 100], [40, 100])\n",
        "print('Mean squared error : ', mean_squared_error(y_test, y_hat_test))\n",
        "#과적합 모형처럼 보이나, 실제로 데이터가 적어서 그렇지 오류율이 0.0006임을 보면 아주 잘 학습됨을 알 수 있음."
      ],
      "metadata": {
        "colab": {
          "base_uri": "https://localhost:8080/",
          "height": 283
        },
        "id": "h4k_v379wdiN",
        "outputId": "e47de180-8fb6-4f96-d39b-e00375e0c5b3"
      },
      "execution_count": null,
      "outputs": [
        {
          "output_type": "stream",
          "name": "stdout",
          "text": [
            "Mean squared error :  0.0006093465466390293\n"
          ]
        },
        {
          "output_type": "display_data",
          "data": {
            "text/plain": [
              "<Figure size 432x288 with 1 Axes>"
            ],
            "image/png": "[encoded data removed]"
          },
          "metadata": {
            "needs_background": "light"
          }
        }
      ]
    },
    {
      "cell_type": "markdown",
      "source": [
        "#6.2 다항 회귀의 문제점 - 폭발적인 복잡도 증가, 그리고 과적합\n",
        "- 다항 회귀를 통해 더 좋은 성능을 가진 회귀 함수를 찾을 수 있으나, 차수가 너무 올라가면 모수가 늘어나서 모형이 복잡해지며 (모수에 비해 데이터가 부족해) 과적합이 발생함."
      ],
      "metadata": {
        "id": "ePJqJiKfzjzL"
      }
    },
    {
      "cell_type": "markdown",
      "source": [
        "- 두 가지 문제 case\n",
        "  1. overfitting : 훈련 데이터 학습은 잘 되나 검증 데이터 예측 성능은 부진함\n",
        "  2. 차원의 저주 발생 : 다항식 차수 높아질 수록 계산복잡도 증가"
      ],
      "metadata": {
        "id": "7v8c1TGq1dxj"
      }
    },
    {
      "cell_type": "markdown",
      "source": [
        "#6.3 Overfitting, Underfitting\n",
        "\n",
        "1. Overfitting : 성능 측면(학습률) 학습 데이터 > 테스트 데이터\n",
        "  - 발생 원인\n",
        "    - 데이터셋이 특이한 경우만 추출됨\n",
        "    - 지나치게 데이터셋이 적음\n",
        "    - 모델이 너무 복잡함\n",
        "  - 솔루션 : 정칙화(규제)를 가해서 일반화 능력을 높힘 (ex : L1(Lasso), L2(Ridge))\n",
        "\n",
        "2. Underfitting : 학습 데이터와 테스트 데이터의 학습률이 너무 낮음\n",
        "  - 발생 원인\n",
        "    - 모델이 너무 단순함\n",
        "    - 예측을 제대로 할 수 없는 특징들만 제공됨\n",
        "  - 솔루션 : 차수 등의 복잡도를 높임"
      ],
      "metadata": {
        "id": "lb-_OQMR27JW"
      }
    },
    {
      "cell_type": "markdown",
      "source": [
        "#6.4 결정 트리를 이용한 분류\n",
        "> 결정 트리 : 귀납 추론을 위해 자주 사용되는 실용적인 방법\n",
        "\n",
        "-> 데이터들을 트리 구조의 root에서 시작하여 차례로 중간 노드들을 거쳐 단말(leaf) 노드에 배정\n"
      ],
      "metadata": {
        "id": "fTCufPsG4SpJ"
      }
    },
    {
      "cell_type": "code",
      "source": [
        "#6.8까지 완료. 다음 학습은 6.9, 사이킷런 결정 트리를 이용한 붓꽃 분류부터"
      ],
      "metadata": {
        "id": "V8SI_NxK0bgK"
      },
      "execution_count": null,
      "outputs": []
    }
  ]
}